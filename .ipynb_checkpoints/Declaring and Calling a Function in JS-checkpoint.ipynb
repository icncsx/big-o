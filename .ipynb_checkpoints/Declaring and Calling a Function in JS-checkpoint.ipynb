{
 "cells": [
  {
   "cell_type": "markdown",
   "metadata": {},
   "source": [
    "# Objectives\n",
    "\n",
    "We are going to learn about functions. Namely, we will learn about how we can:\n",
    "\n",
    "- Declare a function\n",
    "- Execute a function\n",
    "- Pass arguments to functions"
   ]
  },
  {
   "cell_type": "markdown",
   "metadata": {},
   "source": [
    "## What are functions?\n",
    "    \n",
    "A JavaScript function is a block of code designed to perform a particular task. To create a function, we first need to make a function declaration."
   ]
  },
  {
   "cell_type": "markdown",
   "metadata": {},
   "source": [
    "## Declaring a function\n",
    "\n",
    "To declare a function in JavaScript, the `function` keyword goes first, then goes the `name` of the function, then a list of optional `arguments` between the parentheses, and finally the code of the function, also named “the function `body`, between curly braces.\n",
    "\n",
    "In brief, we need three things to declare a function.\n",
    "\n",
    "- function keyword\n",
    "- function name\n",
    "- function body\n",
    "- function arguments\n",
    "\n",
    "```js\n",
    "function functionName(arg1, arg2){\n",
    "   // function body (the logic goes here)\n",
    "}\n",
    "\n",
    "```"
   ]
  },
  {
   "cell_type": "markdown",
   "metadata": {},
   "source": [
    "## Invoking a function\n",
    "\n",
    "To invoke a function in JavaScript, we simply append `parentheses` to the function name and pass in optional `arguments`. \n",
    "\n",
    "```js\n",
    "// function invocation\n",
    "functionName(arg1, arg2)\n",
    "```"
   ]
  },
  {
   "cell_type": "markdown",
   "metadata": {},
   "source": [
    "> Note: declaration should precede and invocation."
   ]
  },
  {
   "cell_type": "markdown",
   "metadata": {},
   "source": [
    "### Example 1\n",
    "\n",
    "Note in this example, we are declaring a function that does not take in any arguments."
   ]
  },
  {
   "cell_type": "code",
   "execution_count": 6,
   "metadata": {},
   "outputs": [],
   "source": [
    "// function declaration\n",
    "var greet = function(){\n",
    "    console.log(\"Hello, world!\")\n",
    "}"
   ]
  },
  {
   "cell_type": "code",
   "execution_count": 7,
   "metadata": {},
   "outputs": [
    {
     "name": "stdout",
     "output_type": "stream",
     "text": [
      "Hello, world!\n"
     ]
    }
   ],
   "source": [
    "// function call (invocation)\n",
    "greet()"
   ]
  },
  {
   "cell_type": "markdown",
   "metadata": {},
   "source": [
    "## Functions take arguments"
   ]
  },
  {
   "cell_type": "code",
   "execution_count": 8,
   "metadata": {},
   "outputs": [],
   "source": [
    "var greet = (lang) => {\n",
    "    if (lang === \"fr\"){\n",
    "        console.log(\"Bonjour!\")\n",
    "    } else if (lang === \"en\"){\n",
    "        console.log(\"Hello!\")\n",
    "    }\n",
    "}"
   ]
  },
  {
   "cell_type": "code",
   "execution_count": 9,
   "metadata": {},
   "outputs": [
    {
     "name": "stdout",
     "output_type": "stream",
     "text": [
      "Hello!\n"
     ]
    }
   ],
   "source": [
    "// lang => 'en'\n",
    "greet(\"en\")"
   ]
  },
  {
   "cell_type": "code",
   "execution_count": 10,
   "metadata": {},
   "outputs": [
    {
     "name": "stdout",
     "output_type": "stream",
     "text": [
      "Bonjour!\n"
     ]
    }
   ],
   "source": [
    "// lang => 'fr'\n",
    "greet(\"fr\")"
   ]
  },
  {
   "cell_type": "markdown",
   "metadata": {},
   "source": [
    "### Example 2\n",
    "\n",
    "Can someone explain to me what this function is doing?"
   ]
  },
  {
   "cell_type": "code",
   "execution_count": 1,
   "metadata": {},
   "outputs": [],
   "source": [
    "var greet = (name, age) => {\n",
    "    console.log(`My name is ${name} and I am ${age} years old`)\n",
    "}"
   ]
  },
  {
   "cell_type": "code",
   "execution_count": 2,
   "metadata": {},
   "outputs": [
    {
     "name": "stdout",
     "output_type": "stream",
     "text": [
      "My name is Alice and I am 25 years old\n"
     ]
    }
   ],
   "source": [
    "greet(\"Alice\", 25)"
   ]
  },
  {
   "cell_type": "code",
   "execution_count": 3,
   "metadata": {},
   "outputs": [
    {
     "name": "stdout",
     "output_type": "stream",
     "text": [
      "My name is Brad and I am 35 years old\n"
     ]
    }
   ],
   "source": [
    "greet(\"Brad\", 35)"
   ]
  },
  {
   "cell_type": "markdown",
   "metadata": {},
   "source": [
    "## Default Arguments\n",
    "\n",
    "In JavaScript, a default argument is evaluated every time the function is called. In the example below, `greet=\"Hello, world!\"` unless you invoke the function with an argument."
   ]
  },
  {
   "cell_type": "code",
   "execution_count": 1,
   "metadata": {},
   "outputs": [],
   "source": [
    "var greet = (greet=\"Hello, world!\") => {\n",
    "    console.log(greet)\n",
    "}"
   ]
  },
  {
   "cell_type": "code",
   "execution_count": 4,
   "metadata": {},
   "outputs": [
    {
     "name": "stdout",
     "output_type": "stream",
     "text": [
      "Hello, world!\n"
     ]
    }
   ],
   "source": [
    "// no argument passed, so greet defaults to \"Hello, world!\"\n",
    "greet()"
   ]
  },
  {
   "cell_type": "code",
   "execution_count": 3,
   "metadata": {},
   "outputs": [
    {
     "name": "stdout",
     "output_type": "stream",
     "text": [
      "Yo!\n"
     ]
    }
   ],
   "source": [
    "// \"Yo!\" is passed as an argument, so greet=\"Yo!\"\n",
    "greet(\"Yo!\")"
   ]
  },
  {
   "cell_type": "markdown",
   "metadata": {},
   "source": [
    "## Functions can return values\n",
    "\n",
    "Functions can also return values. This is particularly useful if you want to call a function and assign its return value to another variable."
   ]
  },
  {
   "cell_type": "code",
   "execution_count": 11,
   "metadata": {},
   "outputs": [],
   "source": [
    "var multiplyTwoNumbers = (a, b) => {\n",
    "    return a * b;\n",
    "}"
   ]
  },
  {
   "cell_type": "code",
   "execution_count": 12,
   "metadata": {},
   "outputs": [],
   "source": [
    "var product = multiplyTwoNumbers(2,3)"
   ]
  },
  {
   "cell_type": "code",
   "execution_count": 13,
   "metadata": {},
   "outputs": [
    {
     "data": {
      "text/plain": [
       "6"
      ]
     },
     "execution_count": 13,
     "metadata": {},
     "output_type": "execute_result"
    }
   ],
   "source": [
    "product"
   ]
  },
  {
   "cell_type": "markdown",
   "metadata": {},
   "source": [
    "# Practice\n",
    "\n",
    "Practice makes perfect :)\n",
    "\n",
    "Let's create three functions that do the following.\n",
    "\n",
    "- Prints a greeting, the greeting is passed as an argument\n",
    "- Returns true if the argument is an event number\n",
    "- Returns the division of two numbers. The dividend is passed as the first argument and the divisor is passed as the second argument."
   ]
  },
  {
   "cell_type": "code",
   "execution_count": 3,
   "metadata": {},
   "outputs": [],
   "source": [
    "// 1"
   ]
  },
  {
   "cell_type": "code",
   "execution_count": 4,
   "metadata": {},
   "outputs": [],
   "source": [
    "// 2"
   ]
  },
  {
   "cell_type": "code",
   "execution_count": 5,
   "metadata": {},
   "outputs": [],
   "source": [
    "// 3"
   ]
  },
  {
   "cell_type": "markdown",
   "metadata": {},
   "source": [
    "# Summary\n",
    "\n",
    "A function is a block of code designed to perform a particular task. To use a function, we need to first declare it. Then we need to call it. Declaring a function only makes it available for usage."
   ]
  },
  {
   "cell_type": "markdown",
   "metadata": {},
   "source": [
    "## Addendum\n",
    "\n",
    "Pro-top: declare lots of functions! This helps us adhere to the `Single Responsibility Principle`. Basically, one function should do one action. Two independent actions deserve two functions."
   ]
  }
 ],
 "metadata": {
  "kernelspec": {
   "display_name": "Javascript (Node.js)",
   "language": "javascript",
   "name": "javascript"
  },
  "language_info": {
   "file_extension": ".js",
   "mimetype": "application/javascript",
   "name": "javascript",
   "version": "14.13.0"
  }
 },
 "nbformat": 4,
 "nbformat_minor": 4
}
